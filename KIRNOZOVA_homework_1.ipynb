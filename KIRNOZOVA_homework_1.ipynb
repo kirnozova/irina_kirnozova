{
 "cells": [
  {
   "cell_type": "markdown",
   "metadata": {},
   "source": [
    "# Test 1"
   ]
  },
  {
   "cell_type": "markdown",
   "metadata": {},
   "source": [
    "Прямо в данном файле напишите функции перечисленные ниже. Получившийся файл отправьте на email **aparinov1@gmail.com**\n",
    "\n",
    "- (1 балл) Функцию **ReadData** для чтения данных из файла **test1_in.txt**. Функция получает на вход путь к данному текстовому файлу test1_in.txt. Функция возвращает словарь типа Dict. Одна из подзадач функции состоит в преобразовании текста в матрицу. Матрица представляется в виде вложенных списков. Например:"
   ]
  },
  {
   "cell_type": "raw",
   "metadata": {},
   "source": [
    "1 2 3 \n",
    "2 3 1\n",
    "3 1 2\n",
    "Представляется в виде: \n",
    "matrix= [[1,2,3],[2,3,1],[3,1,2]]\n",
    "\n",
    "Формат файла:\n",
    "1) символом # выделяются комментарии, которые нужно игнорировать. Данные строки содержат информацию для какой функции текст ниже является входной информацией\n",
    "2) данные для входных и выходных разных функций разделяются двумя пустыми строками"
   ]
  },
  {
   "cell_type": "markdown",
   "metadata": {},
   "source": [
    "- (1 балл) Функцию **BubbleSort** реализующую сортировку [методом пузырька](https://ru.wikipedia.org/wiki/%D0%A1%D0%BE%D1%80%D1%82%D0%B8%D1%80%D0%BE%D0%B2%D0%BA%D0%B0_%D0%BF%D1%83%D0%B7%D1%8B%D1%80%D1%8C%D0%BA%D0%BE%D0%BC) по убыванию. На вход функция получает строку.\n",
    "- (1 балл) Функцию **RandomString**. На вход функция получает длину строки. Используя встроенную функцию **random()** Необходимо сгенерировать случайным образом строку заданной длины\n",
    "- (2 балла) Функция **DeleteStrings**. На вход функции принимает строку. Удалите в данной строке все подстроки с символом @. В оставшихся подстроках,в которых буква h встречается как минимум два раза. Разверните последовательность символов, заключенную между первым и последним появлением буквы h, в противоположном порядке. Полученные подстроки сохраните в список и подайте на выход функции.\n",
    "- (2 балла) Функцию **RandomMatrix**. На вход функция получает размер матриц. В файле на первом месте находится количество строк, на втором месте количество столбцов. Необходимо сгенерировать матрицу из случайных чисел с плавающей точкой  от 0 до 10. Полученная матрица сохраняется в виде вложенных списков. Например: matrix = [[1.3,2.3,4.5],[0.7,9.6,10.0],[3.7,7.6,0.5]] \n",
    "- (2 балла) Написать фукнцию под названием **FindMaxMinSum**. Функция на вход получает список типа List. Функция должна возвращать найти сумму максимального и минимального элемента матрицы \n",
    "- (1 балл) Функцию **WriteData**. На вход функция получает строковую переменную содержащую путь к файлу **test1_out.txt**."
   ]
  },
  {
   "cell_type": "markdown",
   "metadata": {},
   "source": [
    "## Пример файла test1_in.txt"
   ]
  },
  {
   "cell_type": "raw",
   "metadata": {},
   "source": [
    "# BubbleSort\n",
    "0 1 2 3 4 5\n",
    "\n",
    "\n",
    "# RandomString\n",
    "5\n",
    "\n",
    "\n",
    "# DeleteStrings\n",
    "u*9YbfAx 8h012h9 NI&X@xSar 7h345hB\n",
    "\n",
    "\n",
    "# RandomMatrix\n",
    "2 3\n",
    "\n",
    "\n",
    "# FindMaxMinSum\n",
    "1 2 3\n",
    "4 5 6"
   ]
  },
  {
   "cell_type": "code",
   "execution_count": 1,
   "metadata": {
    "collapsed": true
   },
   "outputs": [],
   "source": [
    "file = \"C:\\\\test1_in.txt\"\n",
    "filname = \"C:\\\\test1_out.txt\"\n",
    "\n",
    "import random\n",
    "from random import choice\n",
    "from string import ascii_letters\n",
    "\n",
    "def ReadData(filename):\n",
    "    qvest_dict = {}\n",
    "    first_list = []\n",
    "    lst = []\n",
    "    lst_var = []\n",
    "    f = open(filename)\n",
    "    content = f.readlines()\n",
    "    f.close()\n",
    "    for line in content:\n",
    "        x  = line.rstrip().split(' ')\n",
    "        y = [i for i in x if i != '#']\n",
    "        if y != ['']:\n",
    "            first_list.append(y)\n",
    "    list_not = first_list[0:9]\n",
    "    \n",
    "    matrix = []\n",
    "    matrix_g = first_list[-2]\n",
    "    matrix_y = first_list[-1]\n",
    "    matrix.append(matrix_g)\n",
    "    matrix.append(matrix_y)\n",
    "    \n",
    "    list_not.append(matrix)\n",
    "  \n",
    "    \n",
    "    name = list_not[0::2]\n",
    "   \n",
    "    var = list_not[1::2]\n",
    "   \n",
    "    for item in name:\n",
    "        lst.append(item[0])\n",
    "    \n",
    "    for k, v in zip(lst, var):\n",
    "        qvest_dict[k] = v\n",
    "\n",
    "    return qvest_dict"
   ]
  },
  {
   "cell_type": "code",
   "execution_count": 2,
   "metadata": {
    "collapsed": true
   },
   "outputs": [],
   "source": [
    "def BubbleSort(string):\n",
    "    len_str = len(string)\n",
    "    for i in range (len_str-1):\n",
    "        for j in range (i+1,len_str):\n",
    "            if (string[i]<string[j]):\n",
    "                string[i],string[j]=string[j],string[i]\n",
    "    answer_bubble = (' '.join(map( str, string)))\n",
    "    return answer_bubble\n",
    "    "
   ]
  },
  {
   "cell_type": "code",
   "execution_count": 3,
   "metadata": {
    "collapsed": true
   },
   "outputs": [],
   "source": [
    "def RandomString(length):\n",
    "    lent = int(length[0])\n",
    "    example_string = 'abcdefghigklmnopqrstuvwxyz'\n",
    "    return_rand = (''.join(choice(example_string) for i in range(lent)))\n",
    "\n",
    "    return return_rand"
   ]
  },
  {
   "cell_type": "code",
   "execution_count": 4,
   "metadata": {
    "collapsed": true
   },
   "outputs": [],
   "source": [
    "def DeleteStrings(pixel):\n",
    "    without_a = []\n",
    "    final_word = []\n",
    "    final_list_reversed = []\n",
    "    z = '@' \n",
    "    for word in pixel:\n",
    "        if z not in word:\n",
    "            without_a.append(word)\n",
    "            \n",
    "    for line in without_a:\n",
    "        h = 0\n",
    "        for i in line:\n",
    "            if i == \"h\":\n",
    "                h = h + 1\n",
    "                \n",
    "        if h >= 2:\n",
    "            h1 = line.index('h')\n",
    "            h1= h1+1\n",
    "            h2 = line.index('h',(h+1))\n",
    "            first_part = line[0:h1]\n",
    "            final_part = line[h2:h2+10]\n",
    "            dropped_line = line[h1:h2]\n",
    "            reverse_line = dropped_line[::-1]\n",
    "            final_word = first_part + reverse_line + final_part\n",
    "            final_list_reversed.append(final_word)\n",
    "        else:\n",
    "            final_list_reversed.append(line)\n",
    "        \n",
    "        answer = (' '.join(final_list_reversed))\n",
    " \n",
    "    return answer"
   ]
  },
  {
   "cell_type": "code",
   "execution_count": 5,
   "metadata": {
    "collapsed": true
   },
   "outputs": [],
   "source": [
    "import random\n",
    "def RandomMatrix(x):\n",
    "    a = int(x[0])\n",
    "    b = int(x[-1])\n",
    "\n",
    "    lst = []\n",
    "    six = []\n",
    "    for i in range(a):\n",
    "        lst.append([])\n",
    "        for j in range(b):\n",
    "            lst[i].append(\"%.1f\" % random.uniform(1,10))\n",
    "    \n",
    "    for line in lst:\n",
    "        lson = (' '.join(line))\n",
    "        six.append(lson)         \n",
    "    return six"
   ]
  },
  {
   "cell_type": "code",
   "execution_count": 6,
   "metadata": {
    "collapsed": true
   },
   "outputs": [],
   "source": [
    "def FindMaxMinSum(y):\n",
    "    z = [[int(el) for el in row] for row in y] \n",
    "    empty_list = []\n",
    "    \n",
    "    for line in z:\n",
    "        for row in line:\n",
    "            empty_list.append(row)\n",
    "    max_element = max(empty_list)\n",
    "    min_element = min(empty_list)\n",
    "    answer_sum = max_element + min_element\n",
    "    str_answer = str(answer_sum)\n",
    "   \n",
    "    return str_answer\n"
   ]
  },
  {
   "cell_type": "code",
   "execution_count": 7,
   "metadata": {
    "collapsed": true
   },
   "outputs": [],
   "source": [
    "q_dict = ReadData(file)\n",
    "\n",
    "bubble = q_dict['BubbleSort']\n",
    "bubble_sort = BubbleSort(bubble)\n",
    "\n",
    "rstr = q_dict['RandomString']\n",
    "random_string = RandomString(rstr)\n",
    "\n",
    "delit = q_dict['DeleteStrings']\n",
    "delit_str = DeleteStrings(delit)\n",
    "\n",
    "matrix = q_dict['RandomMatrix']\n",
    "matrix_size = RandomMatrix(matrix)\n",
    "\n",
    "max_min = q_dict['FindMaxMinSum']\n",
    "find_max_min = FindMaxMinSum(max_min)"
   ]
  },
  {
   "cell_type": "code",
   "execution_count": 8,
   "metadata": {},
   "outputs": [],
   "source": [
    "filname = \"test1_out.txt\"\n",
    "\n",
    "def WriteData(name):\n",
    "    f = open(name, \"w\")\n",
    "    f.write(\"# BubbleSort\"+'\\n')\n",
    "    f.write(bubble_sort + '\\n' + '\\n' + '\\n')\n",
    "    f.write('# RandomString' + '\\n')\n",
    "    f.write(random_string + '\\n' + '\\n' + '\\n')\n",
    "    f.write('# DeleteStrings' + '\\n')\n",
    "    f.write(delit_str + '\\n' + '\\n' + '\\n')\n",
    "    f.write('# RandomMatrix' + '\\n')\n",
    "    for line in matrix_size:\n",
    "        f.write(line + '\\n')\n",
    " \n",
    "    f.write('\\n' + '\\n' + '# FindMaxMinSum' + '\\n')\n",
    "    f.write(find_max_min + '\\n' + '\\n')\n",
    "    \n",
    " \n",
    "    f.close()\n",
    "    \n",
    "WriteData(filname)"
   ]
  },
  {
   "cell_type": "markdown",
   "metadata": {},
   "source": [
    "## Пример файла test1_out.txt"
   ]
  },
  {
   "cell_type": "raw",
   "metadata": {},
   "source": [
    "# BubbleSort\n",
    "5 4 3 2 1 0\n",
    "\n",
    "\n",
    "# RandomString\n",
    "adfas\n",
    "\n",
    "\n",
    "# DeleteStrings\n",
    "u*9YbfAx 8h210h9 7h543hB\n",
    "\n",
    "\n",
    "# RandomMatrix\n",
    "1 2 3\n",
    "4 5 6\n",
    "\n",
    "\n",
    "# FindMaxMinSum\n",
    "7"
   ]
  },
  {
   "cell_type": "code",
   "execution_count": null,
   "metadata": {
    "collapsed": true
   },
   "outputs": [],
   "source": []
  },
  {
   "cell_type": "code",
   "execution_count": null,
   "metadata": {
    "collapsed": true
   },
   "outputs": [],
   "source": []
  }
 ],
 "metadata": {
  "kernelspec": {
   "display_name": "Python 3",
   "language": "python",
   "name": "python3"
  },
  "language_info": {
   "codemirror_mode": {
    "name": "ipython",
    "version": 3
   },
   "file_extension": ".py",
   "mimetype": "text/x-python",
   "name": "python",
   "nbconvert_exporter": "python",
   "pygments_lexer": "ipython3",
   "version": "3.6.3"
  }
 },
 "nbformat": 4,
 "nbformat_minor": 1
}
